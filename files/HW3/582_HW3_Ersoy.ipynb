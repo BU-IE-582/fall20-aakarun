{
 "cells": [
  {
   "cell_type": "markdown",
   "metadata": {},
   "source": [
    "# Homework 3\n",
    "### 01.01.2021\n",
    "### Akarun Ayça Ersoy"
   ]
  },
  {
   "cell_type": "markdown",
   "metadata": {},
   "source": [
    "## Penalized Regression Approaches to Electricity Consumption Data\n",
    "The dataset for this homework comes from the hourly electricity consumption series made publicly available at https://seffaflik.epias.com.tr/transparency/. The dataset is split into a 'training' set and 'test' set. Using the training set we construct a model and use it to predict the test set. The training set includes hourly data from 01.01.2016 to 31.10.2020. The test dataset includes data from 01.11.2020 to 30.11.2020.\n",
    "The aim of this project is to accurately predict the hourly electricity consumption using the available electricity data from 2 days and 7 days ago. "
   ]
  },
  {
   "cell_type": "code",
   "execution_count": 11,
   "metadata": {},
   "outputs": [],
   "source": [
    "#Setting the working directory\n",
    "setwd('/Users/user/Documents/AYCADoc/BOUN/IE582')\n",
    "library(data.table)\n",
    "library(dplyr)\n",
    "library(ggplot2)\n",
    "library(glmnet)\n",
    "\n",
    "#Reading the raw data and renaming the consumption column for easier access\n",
    "rawData <- fread('dataforHW3.csv')\n",
    "colnames(rawData)[3] <- \"Consumption\"\n",
    "#Reformatting the consumption column from character to numeric type\n",
    "rawData$Consumption <- gsub(\",\", \"\", rawData$Consumption)\n",
    "rawData$Consumption <- as.numeric(rawData$Consumption)\n",
    "endPt <- dim(rawData)[1]\n",
    "Hour <- rep(0:23, times=(endPt/24))\n",
    "rawData$Hour <- Hour"
   ]
  },
  {
   "cell_type": "markdown",
   "metadata": {},
   "source": [
    "## Task A\n",
    "In this first task, we take a naive approach to the prediction problem. The naive approach is to just use the daily values from 168 hours ago (7x24) and 48 hours ago (2x24). The metric for comparison is mean absolute percentage error (MAPE)."
   ]
  },
  {
   "cell_type": "code",
   "execution_count": 2,
   "metadata": {},
   "outputs": [
    {
     "name": "stdout",
     "output_type": "stream",
     "text": [
      "[1] \"Mape for lag48 is 7.79\"\n",
      "[1] \"Mape for lag168 is 3.45\"\n"
     ]
    }
   ],
   "source": [
    "#PART A\n",
    "ind <- which(rawData$Date == '01.11.2020')[1]\n",
    "testData <- rawData[ind:endPt]\n",
    "testData <- cbind(testData, \n",
    "                   \"lag48\" = rawData$Consumption[(ind-48):(endPt-48)],\n",
    "                   \"lag168\" = rawData$Consumption[(ind-168):(endPt-168)])\n",
    "\n",
    "mape_48 <- mean(abs((testData$Consumption-testData$lag48)/testData$Consumption)) * 100\n",
    "mape_168 <- mean(abs((testData$Consumption-testData$lag168)/testData$Consumption)) * 100\n",
    "print(paste(\"Mape for lag48 is\", format(round(mape_48, 2), nsmall = 2)))\n",
    "print(paste(\"Mape for lag168 is\", format(round(mape_168, 2), nsmall = 2)))"
   ]
  },
  {
   "cell_type": "markdown",
   "metadata": {},
   "source": [
    "## Task B\n",
    "From the first task, we have observed that lag48 and lag168 serve as moderately accurate predictors for the current electricity consumption. In this section, we will be constructing a linear regression model using these two features (lag48 and lag 168). \n",
    "First we create a training set and then use the 'lm' function to build the model. These coefficients are then used to predict the electricity consumptions for the test set. The mean absolute percentage error is reported. The plot shows the relationship between the predictions and the actual consumption values."
   ]
  },
  {
   "cell_type": "code",
   "execution_count": 3,
   "metadata": {},
   "outputs": [
    {
     "data": {
      "text/plain": [
       "\n",
       "Call:\n",
       "lm(formula = Consumption ~ lag48 + lag168, data = trainData)\n",
       "\n",
       "Residuals:\n",
       "     Min       1Q   Median       3Q      Max \n",
       "-25242.2   -984.2     -0.5   1016.9  16102.6 \n",
       "\n",
       "Coefficients:\n",
       "             Estimate Std. Error t value Pr(>|t|)    \n",
       "(Intercept) 1.574e+03  8.353e+01   18.84   <2e-16 ***\n",
       "lag48       3.084e-01  3.096e-03   99.60   <2e-16 ***\n",
       "lag168      6.435e-01  3.094e-03  208.03   <2e-16 ***\n",
       "---\n",
       "Signif. codes:  0 '***' 0.001 '**' 0.01 '*' 0.05 '.' 0.1 ' ' 1\n",
       "\n",
       "Residual standard error: 2392 on 42213 degrees of freedom\n",
       "Multiple R-squared:  0.7753,\tAdjusted R-squared:  0.7753 \n",
       "F-statistic: 7.281e+04 on 2 and 42213 DF,  p-value: < 2.2e-16\n"
      ]
     },
     "metadata": {},
     "output_type": "display_data"
    }
   ],
   "source": [
    "#Constructing the training data (excluding first 168 to be able to have a lag)\n",
    "trainData <- rawData[169:(ind-1)]\n",
    "trainData <- cbind(trainData, \n",
    "                   \"lag48\" = rawData$Consumption[(169-48):((ind-1)-48)],\n",
    "                   \"lag168\" = rawData$Consumption[(169-168):((ind-1)-168)])\n",
    "#Fitting the linear regression model\n",
    "fit_lreg <- lm(Consumption ~ lag48 + lag168, data=trainData)\n",
    "summary(fit_lreg)\n",
    "\n",
    "#Making predictions for the consumption of the test data\n",
    "predicted <- predict(fit_lreg,testData)"
   ]
  },
  {
   "cell_type": "code",
   "execution_count": 4,
   "metadata": {},
   "outputs": [
    {
     "name": "stdout",
     "output_type": "stream",
     "text": [
      "[1] \"Mape for linear fit using lag48 and lag168 is 4.12\"\n"
     ]
    },
    {
     "data": {
      "image/png": "[encoded data removed]",
      "text/plain": [
       "plot without title"
      ]
     },
     "metadata": {},
     "output_type": "display_data"
    }
   ],
   "source": [
    "mape_B <- mean(abs((testData$Consumption-predicted)/testData$Consumption))*100\n",
    "print(paste(\"Mape for linear fit using lag48 and lag168 is\", format(round(mape_B, 2), nsmall = 2)))\n",
    "\n",
    "plot(testData$Consumption,predicted, xlab=\"Actual Consumption\", ylab=\"Prediction\")\n",
    "abline(a=0,b=1,col=2, lwd=3)"
   ]
  },
  {
   "cell_type": "markdown",
   "metadata": {},
   "source": [
    "### Comments\n",
    "The MAPE value shows that the linear model actual does a **worse** job predicting the actual consumptions than simply usind the values from a week ago (lag168). A possible shortcoming of this approach is that, it considers all of the consumptions for different hours as a part of the same model. This issue will be addressed in the next section."
   ]
  },
  {
   "cell_type": "markdown",
   "metadata": {},
   "source": [
    "## Task C\n",
    "In the previous sections, we had considered each hour to be part of the same model. For this task, we will be building separate models for the prediction of each hour. Each hour will be predicted by the corresponding hours from 2 days and 7 days ago. This might be a better approach since the electricity consumption at night is drastically different than morning electricity consumption."
   ]
  },
  {
   "cell_type": "code",
   "execution_count": 5,
   "metadata": {},
   "outputs": [
    {
     "name": "stdout",
     "output_type": "stream",
     "text": [
      "[1] \"Average MAPE of all hours is 4.25\"\n"
     ]
    },
    {
     "data": {
      "image/png": "[encoded data removed]",
      "text/plain": [
       "plot without title"
      ]
     },
     "metadata": {},
     "output_type": "display_data"
    }
   ],
   "source": [
    "predTime <- matrix(0,720,24)\n",
    "mape_C <- rep(0,times=24)\n",
    "partC_coeff <- matrix(0,24,3)\n",
    "for(i in 1:24){\n",
    "    trainTime <- filter(trainData, Hour==(i-1))\n",
    "    fit_C <- lm(Consumption ~ lag48 + lag168, data=trainTime)\n",
    "    partC_coeff[i,]<-fit_C$coefficients\n",
    "    #print(summary(fit_C))\n",
    "    testTime <- filter(testData, Hour==(i-1))\n",
    "    predTime <- predict(fit_C,testTime)\n",
    "    mape_C[i] <- mean(abs((testTime$Consumption-predTime)/testTime$Consumption))*100\n",
    "}\n",
    "print(paste(\"Average MAPE of all hours is\", format(round(mean(mape_C), 2), nsmall = 2)))\n",
    "hour_range <- 1:24\n",
    "plot(hour_range,mape_C, type=\"l\", col=\"blue\", lwd=5, xlab=\"Hour\", ylab=\"MAPE\")"
   ]
  },
  {
   "cell_type": "code",
   "execution_count": 6,
   "metadata": {
    "scrolled": true
   },
   "outputs": [
    {
     "name": "stdout",
     "output_type": "stream",
     "text": [
      "\n",
      "Call:\n",
      "lm(formula = Consumption ~ lag48 + lag168, data = trainTime)\n",
      "\n",
      "Residuals:\n",
      "    Min      1Q  Median      3Q     Max \n",
      "-9571.0  -852.5    54.6   918.8  7916.6 \n",
      "\n",
      "Coefficients:\n",
      "             Estimate Std. Error t value Pr(>|t|)    \n",
      "(Intercept) 2.541e+03  4.860e+02   5.229  1.9e-07 ***\n",
      "lag48       4.511e-01  1.694e-02  26.621  < 2e-16 ***\n",
      "lag168      4.720e-01  1.693e-02  27.882  < 2e-16 ***\n",
      "---\n",
      "Signif. codes:  0 '***' 0.001 '**' 0.01 '*' 0.05 '.' 0.1 ' ' 1\n",
      "\n",
      "Residual standard error: 1738 on 1756 degrees of freedom\n",
      "Multiple R-squared:  0.6932,\tAdjusted R-squared:  0.6929 \n",
      "F-statistic:  1984 on 2 and 1756 DF,  p-value: < 2.2e-16\n",
      "\n",
      "           Intercept        lag48       lag168\n",
      "Hour 0  2191.3207957    0.4868831    0.4428359\n",
      "Hour 1  2120.4519856    0.4919552    0.4364232\n",
      "Hour 2  2831.1373922    0.4753444    0.4252267\n",
      "Hour 3  2229.1366797    0.4927967    0.4269401\n",
      "Hour 4  2204.2581510    0.4746859    0.4449727\n",
      "Hour 5  2225.0314361    0.4398487    0.4784599\n",
      "Hour 6  2126.9463108    0.3759635    0.5462000\n",
      "Hour 7  2310.6506582    0.2663126    0.6528305\n",
      "Hour 8  3232.7654767    0.1737235    0.7255429\n",
      "Hour 9  3594.9940969    0.1743794    0.7206583\n",
      "Hour 10 3740.8405416    0.2062089    0.6868558\n",
      "Hour 11 3958.7061848    0.2249924    0.6635927\n",
      "Hour 12 3662.1121905    0.2802066    0.6131376\n",
      "Hour 13 3806.6695081    0.3035491    0.5867997\n",
      "Hour 14 4066.6145076    0.2597276    0.6255587\n",
      "Hour 15 3950.7997199    0.2563915    0.6319420\n",
      "Hour 16 3815.7174163    0.2471083    0.6456301\n",
      "Hour 17 3389.9374683    0.2620916    0.6430749\n",
      "Hour 18 3018.0217716    0.3337088    0.5819842\n",
      "Hour 19 3163.1145418    0.3868581    0.5250949\n",
      "Hour 20 2782.3135069    0.4080330    0.5143698\n",
      "Hour 21 2658.0490247    0.4290922    0.4954232\n",
      "Hour 22 2825.5494586    0.4427003    0.4753820\n",
      "Hour 23 2541.2608350    0.4510817    0.4720343\n"
     ]
    }
   ],
   "source": [
    "#This is only the summary of the linear regression for the 23rd hour\n",
    "print(summary(fit_C))\n",
    "colnames(partC_coeff)<- c(\"Intercept\", \"lag48\",\"lag168\")\n",
    "rownames(partC_coeff) <- c(paste(\"Hour\",0:23))\n",
    "partC_coeff <- as.table(partC_coeff)\n",
    "print(partC_coeff)"
   ]
  },
  {
   "cell_type": "markdown",
   "metadata": {},
   "source": [
    "### Comments\n",
    "The plot above shows each of the MAPEs for each hour. The predictions for the night-time hours appear to be more accurate than the day-time hours (7-21). This might be because nightly electricity usage is more consistent compared to daytime usage, which differs drastically between days. Also, when we look at the coefficients for lag48 and lag168 they are very similar for the night-hours (1-6) but lag168 is greater for day-hours. This is probably because daily consumption is highly dependant on the day of the week. "
   ]
  },
  {
   "cell_type": "markdown",
   "metadata": {},
   "source": [
    "## Task D\n",
    "In the previous section we only considered the corresponding hours from the previous days - what if all of them are important? In this section, each of the hours from lag48 and lag168 will be treated as separate predictors. In order to do this, we first convert our dataset into the wide format. Now, we have 48 predictors (in the previous section we had 2 predictors). \n",
    "However, we also know that this is probably too many predictors to include in a model. Therefore, we will be using a penalized regression approach that sets some of the coefficients to zero. We are performing cross-validation to obtain the best lambda for lasso. "
   ]
  },
  {
   "cell_type": "code",
   "execution_count": 7,
   "metadata": {},
   "outputs": [],
   "source": [
    "#Train Data\n",
    "wideData <- reshape(trainData, idvar = \"Date\", timevar = \"Hour\", drop=c(\"Consumption\"),direction = \"wide\")\n",
    "wideData2 <- reshape(trainData, idvar = \"Date\", timevar = \"Hour\", drop=c(\"lag48\",\"lag168\"),direction = \"wide\")\n",
    "wideData <- cbind(wideData,wideData2[,2:25])\n",
    "\n",
    "#Test Data\n",
    "wideTest <- reshape(testData, idvar = \"Date\", timevar = \"Hour\", drop=c(\"Consumption\"),direction = \"wide\")\n",
    "wideTest2 <- reshape(testData, idvar = \"Date\", timevar = \"Hour\", drop=c(\"lag48\",\"lag168\"),direction = \"wide\")\n",
    "wideTest <- cbind(wideTest,wideTest2[,2:25])"
   ]
  },
  {
   "cell_type": "code",
   "execution_count": 8,
   "metadata": {},
   "outputs": [
    {
     "name": "stdout",
     "output_type": "stream",
     "text": [
      "[1] \"Average MAPE of all hours is 2.42\"\n"
     ]
    },
    {
     "data": {
      "image/png": "[encoded data removed]",
      "text/plain": [
       "plot without title"
      ]
     },
     "metadata": {},
     "output_type": "display_data"
    }
   ],
   "source": [
    "set.seed(601)\n",
    "mape_D <- rep(0,times=24)\n",
    "for(i in 1:24){\n",
    "    colInd <- 49+i\n",
    "    cvfit = cv.glmnet(as.matrix(wideData[,2:49]),as.numeric(as.matrix(wideData[,..colInd])),family=\"gaussian\")\n",
    "    assign(paste(\"cvfit\",i,sep=\"_\"),cvfit)\n",
    "    predD <- predict(cvfit, as.matrix(wideTest[,2:49]),s='lambda.min')\n",
    "    actual <- as.matrix(wideTest[,..colInd])\n",
    "    mape_D[i] <- mean(abs((actual-predD)/actual))*100\n",
    "}\n",
    "print(paste(\"Average MAPE of all hours is\", format(round(mean(mape_D), 2), nsmall = 2)))\n",
    "plot(hour_range,mape_D, type=\"l\", col=\"darkgreen\", lwd=5, xlab=\"Hour\", ylab=\"MAPE\")"
   ]
  },
  {
   "cell_type": "code",
   "execution_count": 9,
   "metadata": {},
   "outputs": [
    {
     "name": "stdout",
     "output_type": "stream",
     "text": [
      "\n",
      "Call:  cv.glmnet(x = as.matrix(wideData[, 2:49]), y = as.numeric(as.matrix(wideData[,      ..colInd])), family = \"gaussian\") \n",
      "\n",
      "Measure: Mean-Squared Error \n",
      "\n",
      "    Lambda Measure    SE Nonzero\n",
      "min  4.294 1824615 96504      25\n",
      "1se  9.039 1910959 90470      21\n"
     ]
    },
    {
     "data": {
      "text/plain": [
       "49 x 1 sparse Matrix of class \"dgCMatrix\"\n",
       "                        1\n",
       "(Intercept)  5.371980e+03\n",
       "lag48.0     -4.282121e-02\n",
       "lag168.0     .           \n",
       "lag48.1     -2.232751e-01\n",
       "lag168.1     .           \n",
       "lag48.2      .           \n",
       "lag168.2    -8.984917e-03\n",
       "lag48.3      .           \n",
       "lag168.3     .           \n",
       "lag48.4      .           \n",
       "lag168.4    -2.053642e-01\n",
       "lag48.5      2.228750e-01\n",
       "lag168.5    -4.240588e-01\n",
       "lag48.6      8.790075e-05\n",
       "lag168.6     .           \n",
       "lag48.7      .           \n",
       "lag168.7     3.266503e-01\n",
       "lag48.8     -5.839176e-03\n",
       "lag168.8     1.812417e-01\n",
       "lag48.9     -5.270935e-01\n",
       "lag168.9     .           \n",
       "lag48.10     .           \n",
       "lag168.10    .           \n",
       "lag48.11     .           \n",
       "lag168.11    .           \n",
       "lag48.12     .           \n",
       "lag168.12   -2.026698e-02\n",
       "lag48.13     1.456479e-01\n",
       "lag168.13    .           \n",
       "lag48.14     .           \n",
       "lag168.14    .           \n",
       "lag48.15     .           \n",
       "lag168.15    .           \n",
       "lag48.16     .           \n",
       "lag168.16    1.360467e-01\n",
       "lag48.17     .           \n",
       "lag168.17    2.548088e-03\n",
       "lag48.18     .           \n",
       "lag168.18    .           \n",
       "lag48.19     .           \n",
       "lag168.19   -1.922388e-01\n",
       "lag48.20     1.463630e-02\n",
       "lag168.20    .           \n",
       "lag48.21     3.800626e-01\n",
       "lag168.21    .           \n",
       "lag48.22     .           \n",
       "lag168.22    9.762498e-02\n",
       "lag48.23     8.732113e-01\n",
       "lag168.23    9.049595e-02"
      ]
     },
     "metadata": {},
     "output_type": "display_data"
    }
   ],
   "source": [
    "#This is only for the 23rd hour\n",
    "print(cvfit_23)\n",
    "coef(cvfit_23)"
   ]
  },
  {
   "cell_type": "markdown",
   "metadata": {},
   "source": [
    "### Comments\n",
    "The plot again shows the different MAPEs for different hours. Similar to the previous one, the predictions are more accurate for night-time hours. However, all of them have improved compared to linear regression approach.\n",
    "Below that we have the penalized regression properties for the 23rd hour. Again, I have only provided an example for 1 hour as they are all similar. The minimum error is obtained using a lambda of 4.294 and it uses 25 nonzero predictors. 1 standard error away from the minimum we are using 21 nonzero predictors. I have also given the coefficients for the fit for the 23rd hour. The first thing I notice is that some of them are negative, this means that that property inversely affects the current electricity consumption."
   ]
  },
  {
   "cell_type": "markdown",
   "metadata": {},
   "source": [
    "## Task F\n",
    "I finally present the boxplots of the MAPEs for tasks C and D. "
   ]
  },
  {
   "cell_type": "code",
   "execution_count": 10,
   "metadata": {},
   "outputs": [
    {
     "data": {
      "image/png": "[encoded data removed]",
      "text/plain": [
       "Plot with title \"MAPEs for parts C and D\""
      ]
     },
     "metadata": {},
     "output_type": "display_data"
    }
   ],
   "source": [
    "boxplot(mape_C,mape_D, main=\"MAPEs for parts C and D\", col=c(\"lightblue\",\"lightgreen\"))"
   ]
  },
  {
   "cell_type": "markdown",
   "metadata": {},
   "source": [
    "### Comments\n",
    "It's possible to see how much the mean absolute percentage errors have improved using the penalized regression approach. The mean of the results obtained by Lasso (green) are less than mean of the results obtained by linear regression."
   ]
  }
 ],
 "metadata": {
  "kernelspec": {
   "display_name": "R",
   "language": "R",
   "name": "ir"
  },
  "language_info": {
   "codemirror_mode": "r",
   "file_extension": ".r",
   "mimetype": "text/x-r-source",
   "name": "R",
   "pygments_lexer": "r",
   "version": "3.6.1"
  }
 },
 "nbformat": 4,
 "nbformat_minor": 4
}
