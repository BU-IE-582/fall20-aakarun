{
 "cells": [
  {
   "cell_type": "markdown",
   "metadata": {},
   "source": [
    "# Homework 4\n",
    "## 28.01.2021\n",
    "## Akarun Ayça Ersoy"
   ]
  },
  {
   "cell_type": "markdown",
   "metadata": {},
   "source": [
    "In this homework, we have different datasets from different fields. Each dataset contains unique challenges that are dealt with in different ways.\n",
    "1. [Wisconsin Diagnostic Breast Cancer](http://archive.ics.uci.edu/ml/datasets/Breast+Cancer+Wisconsin+%28Diagnostic%29)  \n",
    "This is a classification problem that aims to classify a cell as malignant or benign based on some physical features such as: radius, texture, perimeter and smoothness. There are 32 attributes and all of them are numerical. There are 569 instances in the dataset. 200 of them are separated into a test set. This example is relatively \"simple\" compared to the other ones.   \n",
    "2. [Communities and Crime](http://archive.ics.uci.edu/ml/datasets/Communities+and+Crime)  \n",
    "This is a **regression problem** about the crime rates of different areas in the US. There are 1994 instances in this set. Originally there were **128** attributes in this dataset, however 5 of them were non-predictive and ~30 of them contained a great amount of NAs. I chose to remove these attributes since there are many fully available columns without them. \n",
    "3. [Cover Type](http://archive.ics.uci.edu/ml/datasets/Covertype)  \n",
    "This dataset contains information about the properties of 7 different types of trees that cover an area. This is a **multi-class classification problem**. There are 581,012 instances in the set but only 2747 of them are Cottonwood. There is significant **class imbalance** in this dataset. Since the dataset is so large, only 2% of it is used in the calculations. There are **54** attributes in this dataset that are used for prediction.\n",
    "4. [Mushroom Database](http://archive.ics.uci.edu/ml/datasets/Mushroom)  \n",
    "The target for this dataset is to classify mushrooms based on whether or not they are poisonous. There are 8124 instances and 3915 of them are poisonous. The dataset contains 22 attributes to make this prediction. They include physical features such as cap-shape, cap-color, odor, veil-type etc. All of the attributes are **categorical**. \n",
    "\n",
    "For this homework we will be utilizing 4 different methods to make predictions for theses datasets. These methods are:\n",
    "1. **Penalized Regression (LASSO)**: lambda will be tuned.\n",
    "2. **Decision Tree**: minimal number of observations per tree leaf and complexity parameter are tuned.\n",
    "3. **Random Forest**: number of features to be evaluated is tuned.\n",
    "4. **Stochastic Gradient Boosting**: depth, learning rate and number of trees are tuned.\n",
    "\n",
    "We will be performing 5-fold cross validation in order to select the best parameters for these methods. For the classification cases misclassification error and accuracy are used as the comparison metric and for the regression case we will be using RMSE."
   ]
  },
  {
   "cell_type": "code",
   "execution_count": 4,
   "metadata": {},
   "outputs": [],
   "source": [
    "#Setting the working directory\n",
    "setwd('/Users/user/Documents/AYCADoc/BOUN/IE582/HW4')\n",
    "library(data.table)\n",
    "library(dplyr)\n",
    "library(glmnet)\n",
    "library(randomForest)\n",
    "library(rpart)\n",
    "library(gbm)\n",
    "library(caret)"
   ]
  },
  {
   "cell_type": "markdown",
   "metadata": {},
   "source": [
    "## 1. Diagnostic Breast Cancer\n",
    "As stated in the introduction, this dataset is relatively simple. There is no class imbalance and there are no categorical features or missing values. Preprocessing isn't mandatory for this case. The first column is non-predictive (patient ID), therefore it's removed. "
   ]
  },
  {
   "cell_type": "code",
   "execution_count": 8,
   "metadata": {},
   "outputs": [
    {
     "data": {
      "text/plain": [
       "\n",
       "  B   M \n",
       "357 212 "
      ]
     },
     "metadata": {},
     "output_type": "display_data"
    }
   ],
   "source": [
    "#Dataset 1: Wisconsin Diagnostic Breast Cancer (BC)\n",
    "#renaming the classes and removing unnecessary columns\n",
    "dataBC <- fread('wdbc.data')\n",
    "dataBC$class <- factor(dataBC$V2)\n",
    "dataBC <- subset(dataBC,select=-c(V1,V2))\n",
    "table(dataBC$class)"
   ]
  },
  {
   "cell_type": "code",
   "execution_count": 9,
   "metadata": {},
   "outputs": [
    {
     "data": {
      "text/plain": [
       "\n",
       "  B   M \n",
       "229 136 "
      ]
     },
     "metadata": {},
     "output_type": "display_data"
    }
   ],
   "source": [
    "#Separation into Train and Test Data\n",
    "#createDataPartition preserves the ratios of the original dataset\n",
    "set.seed(1)\n",
    "inTrain <- createDataPartition(y=dataBC$class, p = 0.64,list=F)\n",
    "trainBC <- dataBC[inTrain,]\n",
    "testBC <- dataBC[-inTrain,]\n",
    "table(trainBC$class)"
   ]
  },
  {
   "cell_type": "code",
   "execution_count": 13,
   "metadata": {},
   "outputs": [
    {
     "name": "stdout",
     "output_type": "stream",
     "text": [
      "glmnet \n",
      "\n",
      "365 samples\n",
      " 30 predictor\n",
      "  2 classes: 'B', 'M' \n",
      "\n",
      "No pre-processing\n",
      "Resampling: Cross-Validated (5 fold, repeated 10 times) \n",
      "Summary of sample sizes: 292, 292, 293, 291, 292, 292, ... \n",
      "Resampling results across tuning parameters:\n",
      "\n",
      "  lambda  Accuracy   Kappa    \n",
      "  0.0020  0.9761592  0.9488630\n",
      "  0.0034  0.9791656  0.9551913\n",
      "  0.0048  0.9797061  0.9562811\n",
      "  0.0062  0.9799763  0.9568417\n",
      "  0.0076  0.9794360  0.9555650\n",
      "  0.0090  0.9797062  0.9560972\n",
      "\n",
      "Tuning parameter 'alpha' was held constant at a value of 1\n",
      "Accuracy was used to select the optimal model using the largest value.\n",
      "The final values used for the model were alpha = 1 and lambda = 0.0062.\n"
     ]
    },
    {
     "data": {
      "image/png": "[encoded data removed]",
      "text/plain": [
       "plot without title"
      ]
     },
     "metadata": {},
     "output_type": "display_data"
    }
   ],
   "source": [
    "#Penalized Regression (LASSO)\n",
    "myControl = trainControl(method = \"repeatedcv\", number = 5, repeats = 10)\n",
    "myGridPR <- expand.grid(alpha=1,lambda = seq(0.002,0.009,len=6))\n",
    "\n",
    "lassoBC <- train(class~., data=trainBC, method=\"glmnet\", tuneGrid = myGridPR, trControl=myControl)\n",
    "print(lassoBC)\n",
    "options(repr.plot.width=5, repr.plot.height=5)\n",
    "plot(lassoBC)"
   ]
  },
  {
   "cell_type": "code",
   "execution_count": 14,
   "metadata": {},
   "outputs": [
    {
     "data": {
      "text/plain": [
       "Confusion Matrix and Statistics\n",
       "\n",
       "         \n",
       "predBC_PR   B   M\n",
       "        B 127   8\n",
       "        M   1  68\n",
       "                                          \n",
       "               Accuracy : 0.9559          \n",
       "                 95% CI : (0.9179, 0.9796)\n",
       "    No Information Rate : 0.6275          \n",
       "    P-Value [Acc > NIR] : <2e-16          \n",
       "                                          \n",
       "                  Kappa : 0.9038          \n",
       "                                          \n",
       " Mcnemar's Test P-Value : 0.0455          \n",
       "                                          \n",
       "            Sensitivity : 0.9922          \n",
       "            Specificity : 0.8947          \n",
       "         Pos Pred Value : 0.9407          \n",
       "         Neg Pred Value : 0.9855          \n",
       "             Prevalence : 0.6275          \n",
       "         Detection Rate : 0.6225          \n",
       "   Detection Prevalence : 0.6618          \n",
       "      Balanced Accuracy : 0.9435          \n",
       "                                          \n",
       "       'Positive' Class : B               \n",
       "                                          "
      ]
     },
     "metadata": {},
     "output_type": "display_data"
    }
   ],
   "source": [
    "#training error\n",
    "predTrainBC_PR <- predict(lassoBC,trainBC)\n",
    "trainErrBC_PR <- mean(predTrainBC_PR != trainBC$class)\n",
    "\n",
    "#test error\n",
    "predBC_PR <- predict(lassoBC,testBC)\n",
    "testErrBC_PR <- mean(predBC_PR != testBC$class)\n",
    "confusionMatrix(table(predBC_PR,testBC$class))"
   ]
  },
  {
   "cell_type": "code",
   "execution_count": 15,
   "metadata": {},
   "outputs": [
    {
     "name": "stdout",
     "output_type": "stream",
     "text": [
      "CART \n",
      "\n",
      "365 samples\n",
      " 30 predictor\n",
      "  2 classes: 'B', 'M' \n",
      "\n",
      "No pre-processing\n",
      "Resampling: Cross-Validated (5 fold, repeated 10 times) \n",
      "Summary of sample sizes: 293, 292, 291, 292, 292, 292, ... \n",
      "Resampling results across tuning parameters:\n",
      "\n",
      "  cp     Accuracy   Kappa   \n",
      "  0.000  0.9257909  0.840069\n",
      "  0.001  0.9257909  0.840069\n",
      "  0.010  0.9274347  0.844166\n",
      "\n",
      "Accuracy was used to select the optimal model using the largest value.\n",
      "The final value used for the model was cp = 0.01.\n"
     ]
    }
   ],
   "source": [
    "#Decision Tree\n",
    "myGridDT <- expand.grid(cp = c(0,0.001,0.01))\n",
    "minLeafBC <- c(20,10,5)\n",
    "for(i in 1:3){\n",
    "    treeBC <- train(class~.,data=trainBC,method=\"rpart\",tuneGrid = myGridDT,\n",
    "                trControl=myControl, control = rpart.control(minbucket = minLeafBC[i]))\n",
    "}\n",
    "#Highest accuracy obtained was for 5 observations per leaf (as expected)(10 is close)\n",
    "print(treeBC)"
   ]
  },
  {
   "cell_type": "code",
   "execution_count": 16,
   "metadata": {},
   "outputs": [
    {
     "data": {
      "text/plain": [
       "Confusion Matrix and Statistics\n",
       "\n",
       "         \n",
       "predBC_DT   B   M\n",
       "        B 120   6\n",
       "        M   8  70\n",
       "                                         \n",
       "               Accuracy : 0.9314         \n",
       "                 95% CI : (0.8875, 0.962)\n",
       "    No Information Rate : 0.6275         \n",
       "    P-Value [Acc > NIR] : <2e-16         \n",
       "                                         \n",
       "                  Kappa : 0.854          \n",
       "                                         \n",
       " Mcnemar's Test P-Value : 0.7893         \n",
       "                                         \n",
       "            Sensitivity : 0.9375         \n",
       "            Specificity : 0.9211         \n",
       "         Pos Pred Value : 0.9524         \n",
       "         Neg Pred Value : 0.8974         \n",
       "             Prevalence : 0.6275         \n",
       "         Detection Rate : 0.5882         \n",
       "   Detection Prevalence : 0.6176         \n",
       "      Balanced Accuracy : 0.9293         \n",
       "                                         \n",
       "       'Positive' Class : B              \n",
       "                                         "
      ]
     },
     "metadata": {},
     "output_type": "display_data"
    }
   ],
   "source": [
    "#training error\n",
    "predTrainBC_DT <- predict(treeBC,trainBC)\n",
    "trainErrBC_DT <- mean(predTrainBC_DT != trainBC$class)\n",
    "\n",
    "#test error\n",
    "predBC_DT <- predict(treeBC,testBC)\n",
    "testErrBC_DT <- mean(predBC_DT != testBC$class)\n",
    "confusionMatrix(table(predBC_DT,testBC$class))"
   ]
  },
  {
   "cell_type": "code",
   "execution_count": 22,
   "metadata": {},
   "outputs": [
    {
     "name": "stdout",
     "output_type": "stream",
     "text": [
      "Random Forest \n",
      "\n",
      "365 samples\n",
      " 30 predictor\n",
      "  2 classes: 'B', 'M' \n",
      "\n",
      "No pre-processing\n",
      "Resampling: Cross-Validated (5 fold, repeated 10 times) \n",
      "Summary of sample sizes: 292, 292, 292, 292, 292, 291, ... \n",
      "Resampling results across tuning parameters:\n",
      "\n",
      "  mtry  Accuracy   Kappa    \n",
      "   5    0.9548369  0.9030624\n",
      "  10    0.9523710  0.8978134\n",
      "  15    0.9468801  0.8860674\n",
      "  20    0.9460657  0.8844403\n",
      "\n",
      "Accuracy was used to select the optimal model using the largest value.\n",
      "The final value used for the model was mtry = 5.\n"
     ]
    }
   ],
   "source": [
    "#Random Forest\n",
    "set.seed(3)\n",
    "myGridRF <- expand.grid(mtry=c(5,10,15,20))\n",
    "forestBC <- train(class~., data=trainBC, method=\"rf\", tuneGrid = myGridRF, \n",
    "                  trControl=myControl,ntree = 500, nodesize=5)\n",
    "print(forestBC)"
   ]
  },
  {
   "cell_type": "code",
   "execution_count": 23,
   "metadata": {},
   "outputs": [
    {
     "data": {
      "text/plain": [
       "Confusion Matrix and Statistics\n",
       "\n",
       "         \n",
       "predBC_RF   B   M\n",
       "        B 121   5\n",
       "        M   7  71\n",
       "                                          \n",
       "               Accuracy : 0.9412          \n",
       "                 95% CI : (0.8995, 0.9692)\n",
       "    No Information Rate : 0.6275          \n",
       "    P-Value [Acc > NIR] : <2e-16          \n",
       "                                          \n",
       "                  Kappa : 0.8748          \n",
       "                                          \n",
       " Mcnemar's Test P-Value : 0.7728          \n",
       "                                          \n",
       "            Sensitivity : 0.9453          \n",
       "            Specificity : 0.9342          \n",
       "         Pos Pred Value : 0.9603          \n",
       "         Neg Pred Value : 0.9103          \n",
       "             Prevalence : 0.6275          \n",
       "         Detection Rate : 0.5931          \n",
       "   Detection Prevalence : 0.6176          \n",
       "      Balanced Accuracy : 0.9398          \n",
       "                                          \n",
       "       'Positive' Class : B               \n",
       "                                          "
      ]
     },
     "metadata": {},
     "output_type": "display_data"
    }
   ],
   "source": [
    "#training error\n",
    "predTrainBC_RF <- predict(forestBC,trainBC)\n",
    "trainErrBC_RF <- mean(predTrainBC_RF != trainBC$class)\n",
    "\n",
    "#test error\n",
    "predBC_RF <- predict(forestBC,testBC)\n",
    "testErrBC_RF <- mean(predBC_RF != testBC$class)\n",
    "confusionMatrix(table(predBC_RF,testBC$class))"
   ]
  },
  {
   "cell_type": "code",
   "execution_count": 19,
   "metadata": {},
   "outputs": [
    {
     "name": "stdout",
     "output_type": "stream",
     "text": [
      "Stochastic Gradient Boosting \n",
      "\n",
      "365 samples\n",
      " 30 predictor\n",
      "  2 classes: 'B', 'M' \n",
      "\n",
      "No pre-processing\n",
      "Resampling: Cross-Validated (5 fold, repeated 2 times) \n",
      "Summary of sample sizes: 292, 293, 291, 292, 292, 292, ... \n",
      "Resampling results across tuning parameters:\n",
      "\n",
      "  shrinkage  interaction.depth  n.trees  Accuracy   Kappa    \n",
      "  0.01       1                   500     0.9534591  0.8990833\n",
      "  0.01       1                  1000     0.9698795  0.9348145\n",
      "  0.01       1                  1500     0.9685096  0.9318980\n",
      "  0.01       2                   500     0.9561988  0.9049713\n",
      "  0.01       2                  1000     0.9698795  0.9349525\n",
      "  0.01       2                  1500     0.9712493  0.9379137\n",
      "  0.01       3                   500     0.9520887  0.8958551\n",
      "  0.01       3                  1000     0.9657694  0.9258839\n",
      "  0.01       3                  1500     0.9698604  0.9348844\n",
      "  0.05       1                   500     0.9740081  0.9440012\n",
      "  0.05       1                  1000     0.9740271  0.9440722\n",
      "  0.05       1                  1500     0.9740086  0.9440879\n",
      "  0.05       2                   500     0.9753970  0.9469420\n",
      "  0.05       2                  1000     0.9713059  0.9381793\n",
      "  0.05       2                  1500     0.9726572  0.9411551\n",
      "  0.05       3                   500     0.9698795  0.9350447\n",
      "  0.05       3                  1000     0.9740271  0.9440716\n",
      "  0.05       3                  1500     0.9740081  0.9441403\n",
      "  0.10       1                   500     0.9712313  0.9381569\n",
      "  0.10       1                  1000     0.9712313  0.9381569\n",
      "  0.10       1                  1500     0.9726012  0.9409865\n",
      "  0.10       2                   500     0.9726197  0.9411053\n",
      "  0.10       2                  1000     0.9753594  0.9468933\n",
      "  0.10       2                  1500     0.9698610  0.9352479\n",
      "  0.10       3                   500     0.9712684  0.9383084\n",
      "  0.10       3                  1000     0.9726382  0.9411782\n",
      "  0.10       3                  1500     0.9712684  0.9383486\n",
      "\n",
      "Tuning parameter 'n.minobsinnode' was held constant at a value of 10\n",
      "Accuracy was used to select the optimal model using the largest value.\n",
      "The final values used for the model were n.trees = 500, interaction.depth =\n",
      " 2, shrinkage = 0.05 and n.minobsinnode = 10.\n"
     ]
    }
   ],
   "source": [
    "#Stochastic Gradient Boosting\n",
    "myControl2 <- trainControl(method = \"repeatedcv\", number = 5, repeats = 2)\n",
    "myGridGB <- expand.grid(shrinkage = c(0.01,0.05,0.1),interaction.depth=c(1:3),\n",
    "                         n.trees=c(500,1000,1500),n.minobsinnode=10)\n",
    "boostBC <- train(class~., data=trainBC, method=\"gbm\", tuneGrid = myGridGB, \n",
    "                  trControl=myControl2,verbose=FALSE)\n",
    "print(boostBC)"
   ]
  },
  {
   "cell_type": "code",
   "execution_count": 20,
   "metadata": {},
   "outputs": [
    {
     "data": {
      "text/plain": [
       "Confusion Matrix and Statistics\n",
       "\n",
       "         \n",
       "predBC_GB   B   M\n",
       "        B 126   5\n",
       "        M   2  71\n",
       "                                          \n",
       "               Accuracy : 0.9657          \n",
       "                 95% CI : (0.9306, 0.9861)\n",
       "    No Information Rate : 0.6275          \n",
       "    P-Value [Acc > NIR] : <2e-16          \n",
       "                                          \n",
       "                  Kappa : 0.926           \n",
       "                                          \n",
       " Mcnemar's Test P-Value : 0.4497          \n",
       "                                          \n",
       "            Sensitivity : 0.9844          \n",
       "            Specificity : 0.9342          \n",
       "         Pos Pred Value : 0.9618          \n",
       "         Neg Pred Value : 0.9726          \n",
       "             Prevalence : 0.6275          \n",
       "         Detection Rate : 0.6176          \n",
       "   Detection Prevalence : 0.6422          \n",
       "      Balanced Accuracy : 0.9593          \n",
       "                                          \n",
       "       'Positive' Class : B               \n",
       "                                          "
      ]
     },
     "metadata": {},
     "output_type": "display_data"
    }
   ],
   "source": [
    "#training error\n",
    "predTrainBC_GB <- predict(boostBC,trainBC)\n",
    "trainErrBC_GB <- mean(predTrainBC_GB != trainBC$class)\n",
    "\n",
    "#test error\n",
    "predBC_GB <- predict(boostBC,testBC)\n",
    "testErrBC_GB <- mean(predBC_GB != testBC$class)\n",
    "confusionMatrix(table(predBC_GB,testBC$class))"
   ]
  },
  {
   "cell_type": "code",
   "execution_count": 24,
   "metadata": {},
   "outputs": [
    {
     "data": {
      "text/plain": [
       "                  LASSO     D. Tree   R. Forest S.G.Boosting\n",
       "train error 0.008219178 0.027397260 0.000000000  0.000000000\n",
       "test error  0.044117647 0.068627451 0.058823529  0.034313725"
      ]
     },
     "metadata": {},
     "output_type": "display_data"
    }
   ],
   "source": [
    "errorBC <- matrix(c(trainErrBC_PR,trainErrBC_DT,trainErrBC_RF,trainErrBC_GB,\n",
    "                   testErrBC_PR,testErrBC_DT,testErrBC_RF,testErrBC_GB),ncol=4,byrow=TRUE)\n",
    "colnames(errorBC) <- c(\"LASSO\",\"D. Tree\",\"R. Forest\",\"S.G.Boosting\")\n",
    "rownames(errorBC) <- c(\"train error\",\"test error\")\n",
    "errorBC <- as.table(errorBC)\n",
    "errorBC"
   ]
  },
  {
   "cell_type": "markdown",
   "metadata": {},
   "source": [
    "### Discussion on Diagnostic Cancer Dataset\n",
    "We have used 4 different methods in order to classify this dataset. The accuracies for the test set in order are 95, 93, 94 and 96.8%. The cross validation accuracy for decision tree method is lower than the test accuracy. This might imply underfitting but it's a very small difference. For the other cases the cross-validation error and the train error are lower than test error. This might imply overfitting but it's also to be expected.\n",
    "\n",
    "It's very obvious that random forest and gradient boosting methods have overfit to the training set. The test error is significantly higher in the test set for these methods. The lowest test error is obtained by stochastic gradient boosting.\n",
    "\n",
    "For penalized regression lambda is chosen as 0.0062. The exact number is not very important since LASSO includes some randomness and the exact numbers are arbitrary. For decision trees, the minimum number of instances at the end nodes is selected as 5. This was expected since when this number is lower the more specific the splits become. However, choosing this number as very low would lead to overfitting. For random forest the number of features to be evaluated is 5. Higher numbers could again lead to overfitting and increasing the run time significantly. For gradient boosting the number of trees is selected as 500, depth is 2 and shrinkage is 0.05.\n",
    "\n",
    "While we have simply looked at the accuracies and misclassification errors for this dataset, we should remember that this is about cancer diagnosis. It's significantly worse to classify a malignant cell and benign than vice versa. This means that false negatives should be avoided by biasing the model towards malignant. These models already do a better job at classifying malignant cells. For example, gradient boosting has 98% accuracy for classifying malignant cells and 93% for benign cells. However, each mistake is a person and ideally there would be no misclassifications.\n",
    "For future work, one could choose to intentionally oversample from the 'malignant' class in the preprocessing step or penalize the false negatives in the model building process. "
   ]
  },
  {
   "cell_type": "markdown",
   "metadata": {},
   "source": [
    "## 2. Communities and Crime\n",
    "This dataset contains 128 attributes but about 30 of the attributes contained lots of missing values. There are many approaches to be taken with missing values, such as filling them by creating another regression problem or using the column average. Since there are already a lot of features, I decided to drop them completely. There are also 5 non-predictive columns. After this initial cleanup we end up 95 features. "
   ]
  },
  {
   "cell_type": "code",
   "execution_count": 25,
   "metadata": {},
   "outputs": [],
   "source": [
    "#Dataset 2: Crime and Communities\n",
    "dataCR <- fread('communities.data')\n",
    "dataCR <- cbind(dataCR[,6:101],dataCR[,128])\n",
    "dataCR <- subset(dataCR,select=-V31)\n",
    "\n",
    "#Separation into Train and Test Data\n",
    "set.seed(1)\n",
    "inTrain <- createDataPartition(y=dataCR$V128, p = 0.8,list=F)\n",
    "trainCR <- dataCR[inTrain,]\n",
    "testCR <- dataCR[-inTrain,]"
   ]
  },
  {
   "cell_type": "code",
   "execution_count": 26,
   "metadata": {},
   "outputs": [
    {
     "name": "stdout",
     "output_type": "stream",
     "text": [
      "glmnet \n",
      "\n",
      "1597 samples\n",
      "  95 predictor\n",
      "\n",
      "No pre-processing\n",
      "Resampling: Cross-Validated (5 fold, repeated 2 times) \n",
      "Summary of sample sizes: 1278, 1278, 1277, 1278, 1277, 1277, ... \n",
      "Resampling results across tuning parameters:\n",
      "\n",
      "  lambda   RMSE       Rsquared   MAE       \n",
      "  0.00010  0.1378156  0.6471945  0.09782881\n",
      "  0.00028  0.1374332  0.6487003  0.09687001\n",
      "  0.00046  0.1373089  0.6491229  0.09639707\n",
      "  0.00064  0.1373158  0.6489726  0.09607342\n",
      "  0.00082  0.1374686  0.6481330  0.09593416\n",
      "  0.00100  0.1376417  0.6471959  0.09590877\n",
      "\n",
      "Tuning parameter 'alpha' was held constant at a value of 1\n",
      "RMSE was used to select the optimal model using the smallest value.\n",
      "The final values used for the model were alpha = 1 and lambda = 0.00046.\n"
     ]
    },
    {
     "data": {
      "image/png": "[encoded data removed]",
      "text/plain": [
       "plot without title"
      ]
     },
     "metadata": {},
     "output_type": "display_data"
    }
   ],
   "source": [
    "#Penalized Regression (LASSO)\n",
    "myControl = trainControl(method = \"repeatedcv\", number = 5, repeats = 2)\n",
    "myGridPR <- expand.grid(alpha=1,lambda = seq(0.0001,0.001,len=6))\n",
    "\n",
    "lassoCR <- train(V128~., data=trainCR, method=\"glmnet\", tuneGrid = myGridPR, \n",
    "                 trControl=myControl, family=\"gaussian\")\n",
    "print(lassoCR)\n",
    "plot(lassoCR)\n",
    "#training error\n",
    "predTrainCR_PR <- predict(lassoCR,trainCR)\n",
    "trainErrCR_PR <- sqrt(mean((trainCR$V128 - predTrainCR_PR)^2))\n",
    "\n",
    "#test error\n",
    "predCR_PR <- predict(lassoCR,testCR)\n",
    "testErrCR_PR <- sqrt(mean((testCR$V128 - predCR_PR)^2))"
   ]
  },
  {
   "cell_type": "code",
   "execution_count": 28,
   "metadata": {},
   "outputs": [
    {
     "name": "stdout",
     "output_type": "stream",
     "text": [
      "CART \n",
      "\n",
      "1597 samples\n",
      "  95 predictor\n",
      "\n",
      "No pre-processing\n",
      "Resampling: Cross-Validated (5 fold, repeated 2 times) \n",
      "Summary of sample sizes: 1277, 1278, 1277, 1279, 1277, 1278, ... \n",
      "Resampling results across tuning parameters:\n",
      "\n",
      "  cp     RMSE       Rsquared   MAE      \n",
      "  0.000  0.1771077  0.4751530  0.1207351\n",
      "  0.001  0.1743718  0.4837756  0.1164098\n",
      "  0.010  0.1581463  0.5383941  0.1080303\n",
      "\n",
      "RMSE was used to select the optimal model using the smallest value.\n",
      "The final value used for the model was cp = 0.01.\n"
     ]
    }
   ],
   "source": [
    "#Decision Tree\n",
    "myGridDT <- expand.grid(cp = c(0,0.001,0.01))\n",
    "minLeaf <- c(20,10,5)\n",
    "for(i in 1:3){\n",
    "    treeCR <- train(V128~.,data=trainCR,method=\"rpart\",tuneGrid = myGridDT,\n",
    "                    trControl=myControl, control = rpart.control(minbucket = minLeaf[i]))\n",
    "}\n",
    "#5 is the lowest, I previously printed and checked\n",
    "print(treeCR)\n",
    "#training error\n",
    "predTrainCR_DT <- predict(treeCR,trainCR)\n",
    "trainErrCR_DT <- sqrt(mean((trainCR$V128 - predTrainCR_DT)^2))\n",
    "\n",
    "#test error\n",
    "predCR_DT <- predict(treeCR,testCR)\n",
    "testErrCR_DT <- sqrt(mean((testCR$V128 - predCR_DT)^2))"
   ]
  },
  {
   "cell_type": "code",
   "execution_count": 29,
   "metadata": {},
   "outputs": [
    {
     "name": "stdout",
     "output_type": "stream",
     "text": [
      "Random Forest \n",
      "\n",
      "1597 samples\n",
      "  95 predictor\n",
      "\n",
      "No pre-processing\n",
      "Resampling: Cross-Validated (5 fold, repeated 2 times) \n",
      "Summary of sample sizes: 1277, 1277, 1278, 1278, 1278, 1277, ... \n",
      "Resampling results across tuning parameters:\n",
      "\n",
      "  mtry  RMSE       Rsquared   MAE       \n",
      "   3    0.1383303  0.6534367  0.09665070\n",
      "   5    0.1373565  0.6545443  0.09536774\n",
      "  10    0.1372762  0.6528698  0.09481381\n",
      "  15    0.1373389  0.6516437  0.09485985\n",
      "\n",
      "RMSE was used to select the optimal model using the smallest value.\n",
      "The final value used for the model was mtry = 10.\n"
     ]
    }
   ],
   "source": [
    "#Random Forest\n",
    "set.seed(3)\n",
    "myGridRF <- expand.grid(mtry=c(3,5,10,15))\n",
    "forestCR <- train(V128~., data=trainCR, method=\"rf\", tuneGrid = myGridRF, \n",
    "                  trControl=myControl,ntree = 500, nodesize=5)\n",
    "print(forestCR)\n",
    "#training error\n",
    "predTrainCR_RF <- predict(forestCR,trainCR)\n",
    "trainErrCR_RF <- sqrt(mean((trainCR$V128 - predTrainCR_RF)^2))\n",
    "\n",
    "#test error\n",
    "predCR_RF <- predict(forestCR,testCR)\n",
    "testErrCR_RF <- sqrt(mean((testCR$V128 - predCR_RF)^2))"
   ]
  },
  {
   "cell_type": "code",
   "execution_count": 30,
   "metadata": {},
   "outputs": [
    {
     "name": "stdout",
     "output_type": "stream",
     "text": [
      "Stochastic Gradient Boosting \n",
      "\n",
      "1597 samples\n",
      "  95 predictor\n",
      "\n",
      "No pre-processing\n",
      "Resampling: Cross-Validated (5 fold, repeated 2 times) \n",
      "Summary of sample sizes: 1277, 1278, 1278, 1278, 1277, 1278, ... \n",
      "Resampling results across tuning parameters:\n",
      "\n",
      "  shrinkage  interaction.depth  n.trees  RMSE       Rsquared   MAE       \n",
      "  0.01       1                   100     0.1752435  0.5711974  0.13030778\n",
      "  0.01       1                   500     0.1393169  0.6426243  0.09714143\n",
      "  0.01       1                  1000     0.1369814  0.6518797  0.09415943\n",
      "  0.01       2                   100     0.1665650  0.6048090  0.12306307\n",
      "  0.01       2                   500     0.1366525  0.6536419  0.09420486\n",
      "  0.01       2                  1000     0.1360504  0.6568595  0.09279689\n",
      "  0.01       3                   100     0.1626273  0.6207145  0.11986064\n",
      "  0.01       3                   500     0.1363315  0.6551275  0.09342253\n",
      "  0.01       3                  1000     0.1356840  0.6589596  0.09199218\n",
      "  0.05       1                   100     0.1396355  0.6407004  0.09720215\n",
      "  0.05       1                   500     0.1373959  0.6502876  0.09402298\n",
      "  0.05       1                  1000     0.1384846  0.6457132  0.09466980\n",
      "  0.05       2                   100     0.1371510  0.6509569  0.09465835\n",
      "  0.05       2                   500     0.1372787  0.6524685  0.09305930\n",
      "  0.05       2                  1000     0.1381953  0.6480242  0.09383937\n",
      "  0.05       3                   100     0.1366944  0.6535589  0.09348735\n",
      "  0.05       3                   500     0.1368785  0.6535875  0.09253470\n",
      "  0.05       3                  1000     0.1382038  0.6477945  0.09380881\n",
      "  0.10       1                   100     0.1379772  0.6467951  0.09468233\n",
      "  0.10       1                   500     0.1387857  0.6437773  0.09508737\n",
      "  0.10       1                  1000     0.1414707  0.6308952  0.09747617\n",
      "  0.10       2                   100     0.1376540  0.6491845  0.09374588\n",
      "  0.10       2                   500     0.1404267  0.6378884  0.09526743\n",
      "  0.10       2                  1000     0.1428945  0.6271830  0.09778330\n",
      "  0.10       3                   100     0.1378723  0.6484100  0.09407535\n",
      "  0.10       3                   500     0.1401651  0.6397451  0.09566496\n",
      "  0.10       3                  1000     0.1423295  0.6301976  0.09823530\n",
      "\n",
      "Tuning parameter 'n.minobsinnode' was held constant at a value of 10\n",
      "RMSE was used to select the optimal model using the smallest value.\n",
      "The final values used for the model were n.trees = 1000, interaction.depth =\n",
      " 3, shrinkage = 0.01 and n.minobsinnode = 10.\n"
     ]
    }
   ],
   "source": [
    "#Stochastic Gradient Boosting\n",
    "myGridGB <- expand.grid(shrinkage = c(0.01,0.05,0.1),interaction.depth=c(1:3),\n",
    "                        n.trees=c(100,500,1000),n.minobsinnode=10)\n",
    "boostCR <- train(V128~., data=trainCR, method=\"gbm\", tuneGrid = myGridGB, \n",
    "                 trControl=myControl,verbose=FALSE)\n",
    "print(boostCR)\n",
    "#training error\n",
    "predTrainCR_GB <- predict(boostCR,trainCR)\n",
    "trainErrCR_GB <- sqrt(mean((trainCR$V128 - predTrainCR_GB)^2))\n",
    "\n",
    "#test error\n",
    "predCR_GB <- predict(boostCR,testCR)\n",
    "testErrCR_GB <- sqrt(mean((testCR$V128 - predCR_GB)^2))"
   ]
  },
  {
   "cell_type": "code",
   "execution_count": 31,
   "metadata": {},
   "outputs": [
    {
     "data": {
      "text/plain": [
       "                 LASSO    D. Tree  R. Forest S.G.Boosting\n",
       "train error 0.12980668 0.14523765 0.05652436   0.10846690\n",
       "test error  0.13690076 0.15991387 0.13313486   0.13564847"
      ]
     },
     "metadata": {},
     "output_type": "display_data"
    }
   ],
   "source": [
    "errorCR <- matrix(c(trainErrCR_PR,trainErrCR_DT,trainErrCR_RF,trainErrCR_GB,\n",
    "                   testErrCR_PR,testErrCR_DT,testErrCR_RF,testErrCR_GB),ncol=4,byrow=TRUE)\n",
    "colnames(errorCR) <- c(\"LASSO\",\"D. Tree\",\"R. Forest\",\"S.G.Boosting\")\n",
    "rownames(errorCR) <- c(\"train error\",\"test error\")\n",
    "errorCR <- as.table(errorCR)\n",
    "errorCR"
   ]
  },
  {
   "cell_type": "code",
   "execution_count": 32,
   "metadata": {},
   "outputs": [
    {
     "data": {
      "image/png": "[encoded data removed]",
      "text/plain": [
       "plot without title"
      ]
     },
     "metadata": {},
     "output_type": "display_data"
    }
   ],
   "source": [
    "#Example Plot from Gradient Boosting Model\n",
    "plot(testCR$V128[50:150],type='l',xlab=\"instance\",ylab=\"crime rate\")\n",
    "lines(predCR_GB[50:150], col=\"red\")"
   ]
  },
  {
   "cell_type": "markdown",
   "metadata": {},
   "source": [
    "## Discussion on the Crime Rate Dataset\n",
    "This problem is different from the other ones because it's a regression problem. RMSE is selected as the comparison metric instead of misclassification error. Again, we have implemented the same 4 methods. The train and test errors are tabulated. There isn't significant difference between the train and test errors (maybe except for RandomForest). This indicates that the models are not over- or underfit. The lowest RMSE is obtained with stochastic gradient boosting. \n",
    "\n",
    "We also have an example plot for a 100 instance comparison of the predictions obtained by SGB and the actual test data. I have included this in order to get a sense of how good the predictions are. In this section, it appears that the model predicts sharper peaks for some lower rates. The predictions are all reasonable with none under 0 or over 1. \n",
    "\n",
    "The penalized regression uses 0.0062 lambda. Decision tree performed the best for 5 instances in the end nodes, and complexity parameter 0.01. These were the same for the previous dataset. Features to be tried for random forest were 10 and SGB performed best for 1000 trees, depth 3 and shrinkage 0.01."
   ]
  },
  {
   "cell_type": "markdown",
   "metadata": {},
   "source": [
    "## 3. Cover Type\n",
    "This is a multi-class classification problem with a class imbalance. This dataset contains a very large number of instances, initially we only select 10% of this dataset. I used the 'downSample' function to create a training set with equal number of instances from each class. Undersampling is a commonly used method to deal with class imbalances. The test set has the same ratio of classes as the original dataset.  \n",
    "While this approach is intuitive, there is a problem with it. Since I am creating the test and train sets in two unrelated steps, they likely feature some of the same instances, especially for the less common class. For a more accurate error metric, we should make sure that the same instance doesn't repeat itself in the test and train sets. "
   ]
  },
  {
   "cell_type": "code",
   "execution_count": 9,
   "metadata": {},
   "outputs": [
    {
     "data": {
      "text/plain": [
       "\n",
       "     1      2      3      4      5      6      7 \n",
       "211840 283301  35754   2747   9493  17367  20510 "
      ]
     },
     "metadata": {},
     "output_type": "display_data"
    }
   ],
   "source": [
    "#Dataset 3: Cover Type\n",
    "dataCT <- fread('covtype.data')\n",
    "table(dataCT$V55)\n",
    "#this is a very large dataset, we will only be using 0.1\n",
    "willUse <- createDataPartition(y=dataCT$V55, p = 0.1,list=F)\n",
    "dataCT <- dataCT[willUse,]\n",
    "dataCT$cover <- factor(dataCT$V55)\n",
    "dataCT <- subset(dataCT,select=-V55)\n",
    "\n",
    "#Separation into Train and Test Data\n",
    "set.seed(1)\n",
    "trainCT <- downSample(x=dataCT,y=dataCT$cover)\n",
    "trainCT <- subset(trainCT,select=-Class)\n",
    "inTest <- createDataPartition(y=dataCT$cover, p = 0.01,list=F)\n",
    "testCT <- dataCT[inTest,]"
   ]
  },
  {
   "cell_type": "code",
   "execution_count": 36,
   "metadata": {},
   "outputs": [
    {
     "name": "stdout",
     "output_type": "stream",
     "text": [
      "glmnet \n",
      "\n",
      "1883 samples\n",
      "  54 predictor\n",
      "   7 classes: '1', '2', '3', '4', '5', '6', '7' \n",
      "\n",
      "No pre-processing\n",
      "Resampling: Cross-Validated (5 fold, repeated 10 times) \n",
      "Summary of sample sizes: 1506, 1506, 1507, 1508, 1505, 1509, ... \n",
      "Resampling results across tuning parameters:\n",
      "\n",
      "  lambda  Accuracy   Kappa    \n",
      "  0.0010  0.6915032  0.6400843\n",
      "  0.0018  0.6920377  0.6407072\n",
      "  0.0026  0.6881595  0.6361822\n",
      "  0.0034  0.6881570  0.6361799\n",
      "  0.0042  0.6847050  0.6321512\n",
      "  0.0050  0.6824759  0.6295512\n",
      "\n",
      "Tuning parameter 'alpha' was held constant at a value of 1\n",
      "Accuracy was used to select the optimal model using the largest value.\n",
      "The final values used for the model were alpha = 1 and lambda = 0.0018.\n"
     ]
    },
    {
     "data": {
      "image/png": "[encoded data removed]",
      "text/plain": [
       "plot without title"
      ]
     },
     "metadata": {},
     "output_type": "display_data"
    }
   ],
   "source": [
    "#Penalized Regression (LASSO)\n",
    "set.seed(21)\n",
    "myControl = trainControl(method = \"repeatedcv\", number = 5, repeats = 10)\n",
    "myGridPR <- expand.grid(alpha=1,lambda = seq(0.001,0.005,len=6))\n",
    "\n",
    "lassoCT <- train(cover~., data=trainCT, method=\"glmnet\", tuneGrid = myGridPR, trControl=myControl)\n",
    "print(lassoCT)\n",
    "plot(lassoCT)"
   ]
  },
  {
   "cell_type": "code",
   "execution_count": 39,
   "metadata": {},
   "outputs": [
    {
     "data": {
      "text/plain": [
       "Confusion Matrix and Statistics\n",
       "\n",
       "         \n",
       "predCT_PR   1   2   3   4   5   6   7\n",
       "        1 139  82   0   0   0   0   4\n",
       "        2  28 137   1   0   1   0   0\n",
       "        3   0   2  21   0   0   3   0\n",
       "        4   0   1   4   3   0   1   0\n",
       "        5  16  50   0   0   9   1   0\n",
       "        6   0   7  10   0   0  13   0\n",
       "        7  29   5   0   0   0   0  17\n",
       "\n",
       "Overall Statistics\n",
       "                                          \n",
       "               Accuracy : 0.5805          \n",
       "                 95% CI : (0.5393, 0.6209)\n",
       "    No Information Rate : 0.4863          \n",
       "    P-Value [Acc > NIR] : 3.131e-06       \n",
       "                                          \n",
       "                  Kappa : 0.4102          \n",
       "                                          \n",
       " Mcnemar's Test P-Value : NA              \n",
       "\n",
       "Statistics by Class:\n",
       "\n",
       "                     Class: 1 Class: 2 Class: 3 Class: 4 Class: 5 Class: 6\n",
       "Sensitivity            0.6557   0.4824  0.58333 1.000000  0.90000  0.72222\n",
       "Specificity            0.7688   0.9000  0.99088 0.989673  0.88328  0.96996\n",
       "Pos Pred Value         0.6178   0.8204  0.80769 0.333333  0.11842  0.43333\n",
       "Neg Pred Value         0.7967   0.6475  0.97312 1.000000  0.99803  0.99097\n",
       "Prevalence             0.3630   0.4863  0.06164 0.005137  0.01712  0.03082\n",
       "Detection Rate         0.2380   0.2346  0.03596 0.005137  0.01541  0.02226\n",
       "Detection Prevalence   0.3853   0.2860  0.04452 0.015411  0.13014  0.05137\n",
       "Balanced Accuracy      0.7122   0.6912  0.78710 0.994836  0.89164  0.84609\n",
       "                     Class: 7\n",
       "Sensitivity           0.80952\n",
       "Specificity           0.93961\n",
       "Pos Pred Value        0.33333\n",
       "Neg Pred Value        0.99250\n",
       "Prevalence            0.03596\n",
       "Detection Rate        0.02911\n",
       "Detection Prevalence  0.08733\n",
       "Balanced Accuracy     0.87457"
      ]
     },
     "metadata": {},
     "output_type": "display_data"
    }
   ],
   "source": [
    "#training error\n",
    "predTrainCT_PR <- predict(lassoCT,trainCT)\n",
    "trainErrCT_PR <- mean(predTrainCT_PR != trainCT$cover)\n",
    "\n",
    "#test error\n",
    "predCT_PR <- predict(lassoCT,testCT)\n",
    "testErrCT_PR <- mean(predCT_PR != testCT$cover)\n",
    "confusionMatrix(table(predCT_PR,testCT$cover))"
   ]
  },
  {
   "cell_type": "code",
   "execution_count": 37,
   "metadata": {},
   "outputs": [
    {
     "name": "stdout",
     "output_type": "stream",
     "text": [
      "CART \n",
      "\n",
      "1883 samples\n",
      "  54 predictor\n",
      "   7 classes: '1', '2', '3', '4', '5', '6', '7' \n",
      "\n",
      "No pre-processing\n",
      "Resampling: Cross-Validated (5 fold, repeated 10 times) \n",
      "Summary of sample sizes: 1505, 1505, 1508, 1506, 1508, 1507, ... \n",
      "Resampling results across tuning parameters:\n",
      "\n",
      "  cp     Accuracy   Kappa    \n",
      "  0.000  0.6517627  0.5937249\n",
      "  0.001  0.6623816  0.6061160\n",
      "  0.010  0.6223165  0.5593725\n",
      "\n",
      "Accuracy was used to select the optimal model using the largest value.\n",
      "The final value used for the model was cp = 0.001.\n"
     ]
    }
   ],
   "source": [
    "#Decision Tree\n",
    "myGridDT <- expand.grid(cp = c(0,0.001,0.01))\n",
    "minLeaf <- c(20,10,5)\n",
    "for(i in 1:3){\n",
    "    treeCT <- train(cover~.,data=trainCT,method=\"rpart\",tuneGrid = myGridDT,\n",
    "                    trControl=myControl, control = rpart.control(minbucket = minLeaf[i]))\n",
    "}\n",
    "#Highest accuracy observed for 5 observation per leaf (as expected)(10 is close)\n",
    "print(treeCT)"
   ]
  },
  {
   "cell_type": "code",
   "execution_count": 38,
   "metadata": {},
   "outputs": [
    {
     "data": {
      "text/plain": [
       "Confusion Matrix and Statistics\n",
       "\n",
       "         \n",
       "predCT_DT   1   2   3   4   5   6   7\n",
       "        1 125  80   0   0   0   0   2\n",
       "        2  38 123   2   0   3   0   0\n",
       "        3   0   2  21   0   0   3   0\n",
       "        4   0   0   4   3   0   1   0\n",
       "        5  16  62   0   0   7   2   0\n",
       "        6   2  16   9   0   0  12   0\n",
       "        7  31   1   0   0   0   0  19\n",
       "\n",
       "Overall Statistics\n",
       "                                          \n",
       "               Accuracy : 0.5308          \n",
       "                 95% CI : (0.4894, 0.5719)\n",
       "    No Information Rate : 0.4863          \n",
       "    P-Value [Acc > NIR] : 0.01739         \n",
       "                                          \n",
       "                  Kappa : 0.3507          \n",
       "                                          \n",
       " Mcnemar's Test P-Value : NA              \n",
       "\n",
       "Statistics by Class:\n",
       "\n",
       "                     Class: 1 Class: 2 Class: 3 Class: 4 Class: 5 Class: 6\n",
       "Sensitivity            0.5896   0.4331  0.58333 1.000000  0.70000  0.66667\n",
       "Specificity            0.7796   0.8567  0.99088 0.991394  0.86063  0.95230\n",
       "Pos Pred Value         0.6039   0.7410  0.80769 0.375000  0.08046  0.30769\n",
       "Neg Pred Value         0.7692   0.6148  0.97312 1.000000  0.99396  0.98899\n",
       "Prevalence             0.3630   0.4863  0.06164 0.005137  0.01712  0.03082\n",
       "Detection Rate         0.2140   0.2106  0.03596 0.005137  0.01199  0.02055\n",
       "Detection Prevalence   0.3545   0.2842  0.04452 0.013699  0.14897  0.06678\n",
       "Balanced Accuracy      0.6846   0.6449  0.78710 0.995697  0.78031  0.80948\n",
       "                     Class: 7\n",
       "Sensitivity           0.90476\n",
       "Specificity           0.94316\n",
       "Pos Pred Value        0.37255\n",
       "Neg Pred Value        0.99625\n",
       "Prevalence            0.03596\n",
       "Detection Rate        0.03253\n",
       "Detection Prevalence  0.08733\n",
       "Balanced Accuracy     0.92396"
      ]
     },
     "metadata": {},
     "output_type": "display_data"
    }
   ],
   "source": [
    "#training error\n",
    "predTrainCT_DT <- predict(treeCT,trainCT)\n",
    "trainErrCT_DT <- mean(predTrainCT_DT != trainCT$cover)\n",
    "\n",
    "#test error\n",
    "predCT_DT <- predict(treeCT,testCT)\n",
    "testErrCT_DT <- mean(predCT_DT != testCT$cover)\n",
    "confusionMatrix(table(predCT_DT,testCT$cover))"
   ]
  },
  {
   "cell_type": "code",
   "execution_count": 41,
   "metadata": {},
   "outputs": [
    {
     "name": "stdout",
     "output_type": "stream",
     "text": [
      "Random Forest \n",
      "\n",
      "1883 samples\n",
      "  54 predictor\n",
      "   7 classes: '1', '2', '3', '4', '5', '6', '7' \n",
      "\n",
      "No pre-processing\n",
      "Resampling: Cross-Validated (5 fold, repeated 10 times) \n",
      "Summary of sample sizes: 1507, 1505, 1507, 1506, 1507, 1506, ... \n",
      "Resampling results across tuning parameters:\n",
      "\n",
      "  mtry  Accuracy   Kappa    \n",
      "   3    0.6742248  0.6199332\n",
      "   5    0.7328098  0.6882811\n",
      "  10    0.7644715  0.7252178\n",
      "  15    0.7618201  0.7221240\n",
      "\n",
      "Accuracy was used to select the optimal model using the largest value.\n",
      "The final value used for the model was mtry = 10.\n"
     ]
    }
   ],
   "source": [
    "#Random Forest\n",
    "set.seed(3)\n",
    "myGridRF <- expand.grid(mtry=c(3,5,10,15))\n",
    "forestCT <- train(cover~., data=trainCT, method=\"rf\", tuneGrid = myGridRF, \n",
    "                  trControl=myControl,ntree = 500, nodesize=5)\n",
    "print(forestCT)"
   ]
  },
  {
   "cell_type": "code",
   "execution_count": 42,
   "metadata": {},
   "outputs": [
    {
     "data": {
      "text/plain": [
       "Confusion Matrix and Statistics\n",
       "\n",
       "         \n",
       "predCT_RF   1   2   3   4   5   6   7\n",
       "        1 152  73   0   0   0   0   0\n",
       "        2  23 163   0   0   1   0   0\n",
       "        3   0   2  27   0   0   3   0\n",
       "        4   0   0   4   3   0   1   0\n",
       "        5  13  37   0   0   9   0   1\n",
       "        6   1   8   5   0   0  14   0\n",
       "        7  23   1   0   0   0   0  20\n",
       "\n",
       "Overall Statistics\n",
       "                                          \n",
       "               Accuracy : 0.6644          \n",
       "                 95% CI : (0.6245, 0.7026)\n",
       "    No Information Rate : 0.4863          \n",
       "    P-Value [Acc > NIR] : < 2.2e-16       \n",
       "                                          \n",
       "                  Kappa : 0.5171          \n",
       "                                          \n",
       " Mcnemar's Test P-Value : NA              \n",
       "\n",
       "Statistics by Class:\n",
       "\n",
       "                     Class: 1 Class: 2 Class: 3 Class: 4 Class: 5 Class: 6\n",
       "Sensitivity            0.7170   0.5739  0.75000 1.000000  0.90000  0.77778\n",
       "Specificity            0.8038   0.9200  0.99088 0.991394  0.91115  0.97527\n",
       "Pos Pred Value         0.6756   0.8717  0.84375 0.375000  0.15000  0.50000\n",
       "Neg Pred Value         0.8329   0.6952  0.98370 1.000000  0.99809  0.99281\n",
       "Prevalence             0.3630   0.4863  0.06164 0.005137  0.01712  0.03082\n",
       "Detection Rate         0.2603   0.2791  0.04623 0.005137  0.01541  0.02397\n",
       "Detection Prevalence   0.3853   0.3202  0.05479 0.013699  0.10274  0.04795\n",
       "Balanced Accuracy      0.7604   0.7470  0.87044 0.995697  0.90557  0.87652\n",
       "                     Class: 7\n",
       "Sensitivity           0.95238\n",
       "Specificity           0.95737\n",
       "Pos Pred Value        0.45455\n",
       "Neg Pred Value        0.99815\n",
       "Prevalence            0.03596\n",
       "Detection Rate        0.03425\n",
       "Detection Prevalence  0.07534\n",
       "Balanced Accuracy     0.95488"
      ]
     },
     "metadata": {},
     "output_type": "display_data"
    }
   ],
   "source": [
    "#training error\n",
    "predTrainCT_RF <- predict(forestCT,trainCT)\n",
    "trainErrCT_RF <- mean(predTrainCT_RF != trainCT$cover)\n",
    "\n",
    "#test error\n",
    "predCT_RF <- predict(forestCT,testCT)\n",
    "testErrCT_RF <- mean(predCT_RF != testCT$cover)\n",
    "confusionMatrix(table(predCT_RF,testCT$cover))"
   ]
  },
  {
   "cell_type": "code",
   "execution_count": 8,
   "metadata": {},
   "outputs": [
    {
     "name": "stdout",
     "output_type": "stream",
     "text": [
      "Distribution not specified, assuming multinomial ...\n"
     ]
    },
    {
     "name": "stderr",
     "output_type": "stream",
     "text": [
      "Warning message:\n",
      "\"Setting `distribution = \"multinomial\"` is ill-advised as it is currently broken. It exists only for backwards compatibility. Use at your own risk.\"Warning message in gbm.fit(x = x, y = y, offset = offset, distribution = distribution, :\n",
      "\"variable 21: V21 has no variation.\"Warning message in gbm.fit(x = x, y = y, offset = offset, distribution = distribution, :\n",
      "\"variable 29: V29 has no variation.\"Warning message in gbm.fit(x = x, y = y, offset = offset, distribution = distribution, :\n",
      "\"variable 39: V39 has no variation.\"Warning message in gbm.fit(x = x, y = y, offset = offset, distribution = distribution, :\n",
      "\"variable 41: V41 has no variation.\"Warning message in gbm.fit(x = x, y = y, offset = offset, distribution = distribution, :\n",
      "\"variable 50: V50 has no variation.\""
     ]
    },
    {
     "name": "stdout",
     "output_type": "stream",
     "text": [
      "gbm(formula = cover ~ ., data = trainCT, n.trees = 100, interaction.depth = 3, \n",
      "    n.minobsinnode = 10, shrinkage = 0.1)\n",
      "A gradient boosted model with multinomial loss function.\n",
      "100 iterations were performed.\n",
      "There were 54 predictors of which 38 had non-zero influence.\n"
     ]
    }
   ],
   "source": [
    "#Stochastic Gradient Boosting\n",
    "#I did actually perform cross-validation using the same code as the other datasets\n",
    "#but it takes very long to run so I am only reporting the best case\n",
    "boostCT <- gbm(cover~., data=trainCT, n.trees=100,\n",
    "              interaction.depth=3,shrinkage=0.1,n.minobsinnode=10)\n",
    "print(boostCT)"
   ]
  },
  {
   "attachments": {
    "boostCT.png": {
     "image/png": "[encoded data removed]"
    }
   },
   "cell_type": "markdown",
   "metadata": {},
   "source": [
    "![boostCT.png](attachment:boostCT.png)"
   ]
  },
  {
   "cell_type": "markdown",
   "metadata": {},
   "source": [
    "## Discussion on the Cover Type Dataset\n",
    "This problem was more challenging than the previous sections since it's both a multi-class classification problem and it has a class imbalance problem. We have undersampled from the more prevalent classes, in order to level the playing field. While I have used the 'downSample' function which selects equal number of instances of each class. In my opinion, it might have been better to preserve some amount of imbalance in the set (x1.5-2). Models end up performing the worst for the most common classes, this shows that we might have corrected the set too much. The best performing model is random forest with 66% accuracy, the cross-validation accuracy for it was 76%. This shows signs of overfitting.\n",
    "\n",
    "I have attached an image of the cross-validation results of SGB method of a previous run. It may be noticed that it works with a smaller training set. After I obtained these results which were not satisfactory, I increased the sample size. However, this and other factors made it run very slow so I couldn't obtain results for the larger set. The error results of SGB and other methods are not comparable because they have different sized training sets (about x5-6 greater). We can draw a different conclusion and say that larger training sets are better for building accurate models. "
   ]
  },
  {
   "cell_type": "markdown",
   "metadata": {},
   "source": [
    "## 4. Mushroom Dataset\n",
    "This dataset contains 22 categorical features to predict whether or not a mushroom is poisonous or edible. One of the features is the same for all instances, therefore it serves no predictive value. In the pre-processing section, this feature is removed. All of the categorical features are dummy encoded, meaning that whether or not they're part of that category is expressed as a binary new feature. This creates 116 predictive features, all binary."
   ]
  },
  {
   "cell_type": "code",
   "execution_count": 10,
   "metadata": {},
   "outputs": [],
   "source": [
    "#Dataset 4: Mushroom Types\n",
    "dataMD <- fread('agaricus-lepiota.data')\n",
    "poison <- factor(dataMD$p)\n",
    "colnames(dataMD) <- as.character(c(1:23))\n",
    "dataMD <- subset(dataMD,select=-c(1,17))\n",
    "\n",
    "dmy <- dummyVars(\" ~ .\", data = dataMD)\n",
    "dummyMD <- data.frame(predict(dmy, newdata = dataMD))\n",
    "dummyMD <- cbind(dummyMD,poison)\n",
    "\n",
    "#Separation into Train and Test Data\n",
    "set.seed(1)\n",
    "inTrain <- createDataPartition(y=dummyMD$poison, p = 0.8,list=F)\n",
    "trainMD <- dummyMD[inTrain,]\n",
    "testMD <- dummyMD[-inTrain,]"
   ]
  },
  {
   "cell_type": "code",
   "execution_count": 11,
   "metadata": {},
   "outputs": [
    {
     "name": "stdout",
     "output_type": "stream",
     "text": [
      "glmnet \n",
      "\n",
      "6499 samples\n",
      " 116 predictor\n",
      "   2 classes: 'e', 'p' \n",
      "\n",
      "No pre-processing\n",
      "Resampling: Cross-Validated (5 fold, repeated 10 times) \n",
      "Summary of sample sizes: 5200, 5199, 5199, 5199, 5199, 5199, ... \n",
      "Resampling results across tuning parameters:\n",
      "\n",
      "  lambda  Accuracy   Kappa    \n",
      "  0.0010  0.9993846  0.9987674\n",
      "  0.0018  0.9993846  0.9987674\n",
      "  0.0026  0.9992770  0.9985518\n",
      "  0.0034  0.9986000  0.9971957\n",
      "  0.0042  0.9975690  0.9951305\n",
      "  0.0050  0.9972305  0.9944524\n",
      "\n",
      "Tuning parameter 'alpha' was held constant at a value of 1\n",
      "Accuracy was used to select the optimal model using the largest value.\n",
      "The final values used for the model were alpha = 1 and lambda = 0.0018.\n"
     ]
    },
    {
     "data": {
      "image/png": "[encoded data removed]",
      "text/plain": [
       "plot without title"
      ]
     },
     "metadata": {},
     "output_type": "display_data"
    }
   ],
   "source": [
    "#Penalized Regression (LASSO)\n",
    "set.seed(21)\n",
    "myControl = trainControl(method = \"repeatedcv\", number = 5, repeats = 10)\n",
    "myGridPR <- expand.grid(alpha=1,lambda = seq(0.001,0.005,len=6))\n",
    "\n",
    "lassoMD <- train(poison~., data=trainMD, method=\"glmnet\", tuneGrid = myGridPR, trControl=myControl)\n",
    "print(lassoMD)\n",
    "plot(lassoMD)"
   ]
  },
  {
   "cell_type": "code",
   "execution_count": 12,
   "metadata": {},
   "outputs": [
    {
     "data": {
      "text/plain": [
       "Confusion Matrix and Statistics\n",
       "\n",
       "         \n",
       "predMD_PR   e   p\n",
       "        e 841   0\n",
       "        p   0 783\n",
       "                                     \n",
       "               Accuracy : 1          \n",
       "                 95% CI : (0.9977, 1)\n",
       "    No Information Rate : 0.5179     \n",
       "    P-Value [Acc > NIR] : < 2.2e-16  \n",
       "                                     \n",
       "                  Kappa : 1          \n",
       "                                     \n",
       " Mcnemar's Test P-Value : NA         \n",
       "                                     \n",
       "            Sensitivity : 1.0000     \n",
       "            Specificity : 1.0000     \n",
       "         Pos Pred Value : 1.0000     \n",
       "         Neg Pred Value : 1.0000     \n",
       "             Prevalence : 0.5179     \n",
       "         Detection Rate : 0.5179     \n",
       "   Detection Prevalence : 0.5179     \n",
       "      Balanced Accuracy : 1.0000     \n",
       "                                     \n",
       "       'Positive' Class : e          \n",
       "                                     "
      ]
     },
     "metadata": {},
     "output_type": "display_data"
    }
   ],
   "source": [
    "#training error\n",
    "predTrainMD_PR <- predict(lassoMD,trainMD)\n",
    "trainErrMD_PR <- mean(predTrainMD_PR != trainMD$poison)\n",
    "\n",
    "#test error\n",
    "predMD_PR <- predict(lassoMD,testMD)\n",
    "testErrMD_PR <- mean(predMD_PR != testMD$poison)\n",
    "confusionMatrix(table(predMD_PR,testMD$poison))"
   ]
  },
  {
   "cell_type": "code",
   "execution_count": 13,
   "metadata": {},
   "outputs": [
    {
     "name": "stdout",
     "output_type": "stream",
     "text": [
      "CART \n",
      "\n",
      "6499 samples\n",
      " 116 predictor\n",
      "   2 classes: 'e', 'p' \n",
      "\n",
      "No pre-processing\n",
      "Resampling: Cross-Validated (5 fold, repeated 10 times) \n",
      "Summary of sample sizes: 5198, 5200, 5198, 5200, 5200, 5200, ... \n",
      "Resampling results across tuning parameters:\n",
      "\n",
      "  cp     Accuracy   Kappa    \n",
      "  1e-04  0.9999384  0.9998766\n",
      "  1e-03  0.9995229  0.9990444\n",
      "  1e-02  0.9890135  0.9779834\n",
      "\n",
      "Accuracy was used to select the optimal model using the largest value.\n",
      "The final value used for the model was cp = 1e-04.\n"
     ]
    }
   ],
   "source": [
    "#Decision Tree\n",
    "myGridDT <- expand.grid(cp = c(0.0001,0.001,0.01))\n",
    "minLeaf <- c(20,10,5)\n",
    "for(i in 1:3){\n",
    "    treeMD <- train(poison~.,data=trainMD,method=\"rpart\",tuneGrid = myGridDT,\n",
    "                    trControl=myControl, control = rpart.control(minbucket = minLeaf[i]))\n",
    "}\n",
    "print(treeMD)"
   ]
  },
  {
   "cell_type": "code",
   "execution_count": 14,
   "metadata": {},
   "outputs": [
    {
     "data": {
      "text/plain": [
       "Confusion Matrix and Statistics\n",
       "\n",
       "         \n",
       "predMD_DT   e   p\n",
       "        e 841   0\n",
       "        p   0 783\n",
       "                                     \n",
       "               Accuracy : 1          \n",
       "                 95% CI : (0.9977, 1)\n",
       "    No Information Rate : 0.5179     \n",
       "    P-Value [Acc > NIR] : < 2.2e-16  \n",
       "                                     \n",
       "                  Kappa : 1          \n",
       "                                     \n",
       " Mcnemar's Test P-Value : NA         \n",
       "                                     \n",
       "            Sensitivity : 1.0000     \n",
       "            Specificity : 1.0000     \n",
       "         Pos Pred Value : 1.0000     \n",
       "         Neg Pred Value : 1.0000     \n",
       "             Prevalence : 0.5179     \n",
       "         Detection Rate : 0.5179     \n",
       "   Detection Prevalence : 0.5179     \n",
       "      Balanced Accuracy : 1.0000     \n",
       "                                     \n",
       "       'Positive' Class : e          \n",
       "                                     "
      ]
     },
     "metadata": {},
     "output_type": "display_data"
    }
   ],
   "source": [
    "#training error\n",
    "predTrainMD_DT <- predict(treeMD,trainMD)\n",
    "trainErrMD_DT <- mean(predTrainMD_DT != trainMD$poison)\n",
    "\n",
    "#test error\n",
    "predMD_DT <- predict(treeMD,testMD)\n",
    "testErrMD_DT <- mean(predMD_DT != testMD$poison)\n",
    "confusionMatrix(table(predMD_DT,testMD$poison))"
   ]
  },
  {
   "cell_type": "code",
   "execution_count": 15,
   "metadata": {},
   "outputs": [
    {
     "name": "stdout",
     "output_type": "stream",
     "text": [
      "Random Forest \n",
      "\n",
      "6499 samples\n",
      " 116 predictor\n",
      "   2 classes: 'e', 'p' \n",
      "\n",
      "No pre-processing\n",
      "Resampling: Cross-Validated (5 fold, repeated 10 times) \n",
      "Summary of sample sizes: 5199, 5198, 5200, 5199, 5200, 5199, ... \n",
      "Resampling results across tuning parameters:\n",
      "\n",
      "  mtry  Accuracy   Kappa    \n",
      "  3     0.9954148  0.9908126\n",
      "  4     0.9998307  0.9996610\n",
      "  5     1.0000000  1.0000000\n",
      "\n",
      "Accuracy was used to select the optimal model using the largest value.\n",
      "The final value used for the model was mtry = 5.\n"
     ]
    }
   ],
   "source": [
    "#Decision Tree Method gives very high accuracy\n",
    "#Random Forest\n",
    "set.seed(3)\n",
    "myGridRF <- expand.grid(mtry=c(3,4,5))\n",
    "forestMD <- train(poison~., data=trainMD, method=\"rf\", tuneGrid = myGridRF, \n",
    "                  trControl=myControl,ntree = 50, nodesize=5)\n",
    "print(forestMD)"
   ]
  },
  {
   "cell_type": "code",
   "execution_count": 16,
   "metadata": {},
   "outputs": [
    {
     "data": {
      "text/plain": [
       "Confusion Matrix and Statistics\n",
       "\n",
       "         \n",
       "predMD_RF   e   p\n",
       "        e 841   0\n",
       "        p   0 783\n",
       "                                     \n",
       "               Accuracy : 1          \n",
       "                 95% CI : (0.9977, 1)\n",
       "    No Information Rate : 0.5179     \n",
       "    P-Value [Acc > NIR] : < 2.2e-16  \n",
       "                                     \n",
       "                  Kappa : 1          \n",
       "                                     \n",
       " Mcnemar's Test P-Value : NA         \n",
       "                                     \n",
       "            Sensitivity : 1.0000     \n",
       "            Specificity : 1.0000     \n",
       "         Pos Pred Value : 1.0000     \n",
       "         Neg Pred Value : 1.0000     \n",
       "             Prevalence : 0.5179     \n",
       "         Detection Rate : 0.5179     \n",
       "   Detection Prevalence : 0.5179     \n",
       "      Balanced Accuracy : 1.0000     \n",
       "                                     \n",
       "       'Positive' Class : e          \n",
       "                                     "
      ]
     },
     "metadata": {},
     "output_type": "display_data"
    }
   ],
   "source": [
    "#training error\n",
    "predTrainMD_RF <- predict(forestMD,trainMD)\n",
    "trainErrMD_RF <- mean(predTrainMD_RF != trainMD$poison)\n",
    "\n",
    "#test error\n",
    "predMD_RF <- predict(forestMD,testMD)\n",
    "testErrMD_RF <- mean(predMD_RF != testMD$poison)\n",
    "confusionMatrix(table(predMD_RF,testMD$poison))"
   ]
  },
  {
   "cell_type": "code",
   "execution_count": 17,
   "metadata": {},
   "outputs": [
    {
     "name": "stdout",
     "output_type": "stream",
     "text": [
      "Stochastic Gradient Boosting \n",
      "\n",
      "6499 samples\n",
      " 116 predictor\n",
      "   2 classes: 'e', 'p' \n",
      "\n",
      "No pre-processing\n",
      "Resampling: Cross-Validated (5 fold, repeated 10 times) \n",
      "Summary of sample sizes: 5199, 5200, 5199, 5199, 5199, 5199, ... \n",
      "Resampling results across tuning parameters:\n",
      "\n",
      "  shrinkage  interaction.depth  n.trees  Accuracy   Kappa    \n",
      "  0.01       1                   50      0.8841371  0.7693874\n",
      "  0.01       1                  100      0.8841371  0.7693874\n",
      "  0.01       1                  150      0.8841371  0.7693874\n",
      "  0.01       2                   50      0.9478084  0.8956308\n",
      "  0.01       2                  100      0.9725358  0.9450024\n",
      "  0.01       2                  150      0.9718422  0.9435974\n",
      "  0.01       3                   50      0.9694264  0.9387335\n",
      "  0.01       3                  100      0.9840442  0.9680102\n",
      "  0.01       3                  150      0.9843059  0.9685339\n",
      "  0.05       1                   50      0.9718422  0.9435974\n",
      "  0.05       1                  100      0.9833360  0.9665928\n",
      "  0.05       1                  150      0.9935377  0.9870519\n",
      "  0.05       2                   50      0.9751656  0.9502461\n",
      "  0.05       2                  100      0.9946918  0.9893648\n",
      "  0.05       2                  150      0.9963227  0.9926334\n",
      "  0.05       3                   50      0.9935531  0.9870827\n",
      "  0.05       3                  100      0.9985381  0.9970719\n",
      "  0.05       3                  150      0.9987691  0.9975345\n",
      "  0.10       1                   50      0.9827054  0.9653305\n",
      "  0.10       1                  100      0.9946303  0.9892415\n",
      "  0.10       1                  150      0.9961380  0.9922634\n",
      "  0.10       2                   50      0.9945688  0.9891182\n",
      "  0.10       2                  100      0.9976458  0.9952841\n",
      "  0.10       2                  150      0.9996000  0.9991987\n",
      "  0.10       3                   50      0.9983844  0.9967640\n",
      "  0.10       3                  100      0.9998000  0.9995994\n",
      "  0.10       3                  150      1.0000000  1.0000000\n",
      "\n",
      "Tuning parameter 'n.minobsinnode' was held constant at a value of 10\n",
      "Accuracy was used to select the optimal model using the largest value.\n",
      "The final values used for the model were n.trees = 150, interaction.depth =\n",
      " 3, shrinkage = 0.1 and n.minobsinnode = 10.\n"
     ]
    }
   ],
   "source": [
    "#Stochastic Gradient Boosting\n",
    "myGridGB <- expand.grid(shrinkage = c(0.01,0.05,0.1),interaction.depth=c(1:3),\n",
    "                        n.trees=c(50,100,150),n.minobsinnode=10)\n",
    "boostMD <- train(poison~., data=trainMD, method=\"gbm\", tuneGrid = myGridGB, \n",
    "                 trControl=myControl,verbose=FALSE)\n",
    "print(boostMD)"
   ]
  },
  {
   "cell_type": "code",
   "execution_count": 18,
   "metadata": {},
   "outputs": [
    {
     "data": {
      "text/plain": [
       "Confusion Matrix and Statistics\n",
       "\n",
       "         \n",
       "predMD_GB   e   p\n",
       "        e 841   0\n",
       "        p   0 783\n",
       "                                     \n",
       "               Accuracy : 1          \n",
       "                 95% CI : (0.9977, 1)\n",
       "    No Information Rate : 0.5179     \n",
       "    P-Value [Acc > NIR] : < 2.2e-16  \n",
       "                                     \n",
       "                  Kappa : 1          \n",
       "                                     \n",
       " Mcnemar's Test P-Value : NA         \n",
       "                                     \n",
       "            Sensitivity : 1.0000     \n",
       "            Specificity : 1.0000     \n",
       "         Pos Pred Value : 1.0000     \n",
       "         Neg Pred Value : 1.0000     \n",
       "             Prevalence : 0.5179     \n",
       "         Detection Rate : 0.5179     \n",
       "   Detection Prevalence : 0.5179     \n",
       "      Balanced Accuracy : 1.0000     \n",
       "                                     \n",
       "       'Positive' Class : e          \n",
       "                                     "
      ]
     },
     "metadata": {},
     "output_type": "display_data"
    }
   ],
   "source": [
    "#training error\n",
    "predTrainMD_GB <- predict(boostMD,trainMD)\n",
    "trainErrMD_GB <- mean(predTrainMD_GB != trainMD$poison)\n",
    "\n",
    "#test error\n",
    "predMD_GB <- predict(boostMD,testMD)\n",
    "testErrMD_GB <- mean(predMD_GB != testMD$poison)\n",
    "confusionMatrix(table(predMD_GB,testMD$poison))"
   ]
  },
  {
   "cell_type": "code",
   "execution_count": 19,
   "metadata": {},
   "outputs": [
    {
     "data": {
      "text/plain": [
       "                   LASSO      D. Tree    R. Forest S.G.Boosting\n",
       "train error 0.0004616095 0.0000000000 0.0000000000 0.0000000000\n",
       "test error  0.0000000000 0.0000000000 0.0000000000 0.0000000000"
      ]
     },
     "metadata": {},
     "output_type": "display_data"
    }
   ],
   "source": [
    "errorMD <- matrix(c(trainErrMD_PR,trainErrMD_DT,trainErrMD_RF,trainErrMD_GB,\n",
    "                    testErrMD_PR,testErrMD_DT,testErrMD_RF,testErrMD_GB),ncol=4,byrow=TRUE)\n",
    "colnames(errorMD) <- c(\"LASSO\",\"D. Tree\",\"R. Forest\",\"S.G.Boosting\")\n",
    "rownames(errorMD) <- c(\"train error\",\"test error\")\n",
    "errorMD <- as.table(errorMD)\n",
    "errorMD"
   ]
  },
  {
   "cell_type": "markdown",
   "metadata": {},
   "source": [
    "## Discussion on the Mushroom Dataset\n",
    "Even though I have used all the methods on this dataset, it was not very useful to continue after decision tree. Since decision tree already gives 100%, there is no margin for improvement by building a forest out of many decision trees. The run time for the code also significantly increases for random forest and gradient boosting. \n",
    "\n",
    "There really isn't much to discuss for this dataset, since all cross-validation errors, training errors and test errors are 0%. \n",
    "##### High Accuracy\n",
    "It's expected for us to obtain very low errors for this dataset, since humans have been classifying mushrooms as poisonous or edible for thousands of centuries just by observing their physical attributes. It should also be noted that each attribute contained only a few strict categories that each instance was classified into. In nature, a certain mushroom could be in the yellow-red spectrum but in this dataset it has to be one or the other. A more challenging version of this problem would be to represent some of these features as numerical quantities that lie on a spectrum. I hypothesize that the errors would be higher in that case.\n",
    "Similar to the cancer diagnosis dataset, the false negatives are worse for this dataset. It's significantly worse to classify a poisonous mushroom as edible than vice versa. "
   ]
  },
  {
   "cell_type": "markdown",
   "metadata": {},
   "source": [
    "# Concluding Remarks\n",
    "In this project, we have looked at 4 different datasets and 4 different methods. Each dataset had unique problems associated with it. I think a justifiable conclusion is that we need to fully understand the domain and task at hand. While it's possible to obtain low errors by going in blind, having previous knowledge would help us assess the importance of features, understand the roots of the misclassification errors, draw conclusions and suggest better data collection methods. \n",
    "\n",
    "Each of these methods gave reasonable results for all of the problems. As expected randomForest and SGB performed better than decision tree, since they're an update on it. However, decision tree method never had an overfitting problem and provided reasonable predictions. Penalized regression and decision tree have significantly lower runtimes, which may be an important point for larger datasets. \n",
    "##### Future Work\n",
    "Performing cross-validation for more combinations of parameters would help us avoid overfitting the model. Some of the results presented here picked the lowest/highest parameter that I provided and ideally the best one should lie somewhere in the middle. \n",
    "\n",
    "More pre-processing is definitely necessary for some of the datasets. Normalizing the data may significantly help. Other approaches to the class imbalance problem may also yield better results."
   ]
  }
 ],
 "metadata": {
  "kernelspec": {
   "display_name": "R",
   "language": "R",
   "name": "ir"
  },
  "language_info": {
   "codemirror_mode": "r",
   "file_extension": ".r",
   "mimetype": "text/x-r-source",
   "name": "R",
   "pygments_lexer": "r",
   "version": "3.6.1"
  }
 },
 "nbformat": 4,
 "nbformat_minor": 4
}
